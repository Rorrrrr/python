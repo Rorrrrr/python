{
  "nbformat": 4,
  "nbformat_minor": 0,
  "metadata": {
    "colab": {
      "name": "「函數&編碼語解碼」的副本",
      "provenance": [],
      "collapsed_sections": [],
      "authorship_tag": "ABX9TyMzlABT7m2zaL+Yu1SXr1or",
      "include_colab_link": true
    },
    "kernelspec": {
      "name": "python3",
      "display_name": "Python 3"
    }
  },
  "cells": [
    {
      "cell_type": "markdown",
      "metadata": {
        "id": "view-in-github",
        "colab_type": "text"
      },
      "source": [
        "<a href=\"https://colab.research.google.com/github/Rorrrrr/python/blob/master/%E3%80%8C%E5%87%BD%E6%95%B8%26%E7%B7%A8%E7%A2%BC%E8%AA%9E%E8%A7%A3%E7%A2%BC%E3%80%8D%E7%9A%84%E5%89%AF%E6%9C%AC.ipynb\" target=\"_parent\"><img src=\"https://colab.research.google.com/assets/colab-badge.svg\" alt=\"Open In Colab\"/></a>"
      ]
    },
    {
      "cell_type": "code",
      "metadata": {
        "id": "z447lUpAz7gG",
        "colab_type": "code",
        "colab": {
          "base_uri": "https://localhost:8080/",
          "height": 68
        },
        "outputId": "3727bd7e-06b6-4e86-91d3-188a97d08455"
      },
      "source": [
        "def sum(i1, i2):\n",
        "    result = 0\n",
        "    for i in range(i1, i2):\n",
        "        result += i\n",
        "    return result\n",
        "\n",
        "def main():\n",
        "    print(\"Sum from 1 to 10 is\", sum(1, 11)) \n",
        "    print(\"Sum from 20 to 37 is\", sum(20, 38))\n",
        "    print(\"Sum from 35 to 49 is\", sum(35, 50))\n",
        "\n",
        "main() # Call the main function"
      ],
      "execution_count": null,
      "outputs": [
        {
          "output_type": "stream",
          "text": [
            "Sum from 1 to 10 is 55\n",
            "Sum from 20 to 37 is 513\n",
            "Sum from 35 to 49 is 630\n"
          ],
          "name": "stdout"
        }
      ]
    },
    {
      "cell_type": "code",
      "metadata": {
        "id": "-nyfWMSL08hP",
        "colab_type": "code",
        "colab": {
          "base_uri": "https://localhost:8080/",
          "height": 51
        },
        "outputId": "52f411af-0cc0-461c-db4d-9013867ffcce"
      },
      "source": [
        "#!/usr/bin/python\n",
        "# -*- coding: UTF-8 -*-\n",
        " \n",
        "def swap(a,b):\n",
        "    a,b = b,a\n",
        "    return (a,b)\n",
        " \n",
        "if __name__ == '__main__':\n",
        "    x = 10\n",
        "    y = 20\n",
        "    print('x = %d,y = %d' % (x,y))\n",
        "    x,y = swap(x,y)\n",
        "    print('x = %d,y = %d' % (x,y))"
      ],
      "execution_count": null,
      "outputs": [
        {
          "output_type": "stream",
          "text": [
            "x = 10,y = 20\n",
            "x = 20,y = 10\n"
          ],
          "name": "stdout"
        }
      ]
    },
    {
      "cell_type": "code",
      "metadata": {
        "id": "Quc5cFQm186V",
        "colab_type": "code",
        "colab": {
          "base_uri": "https://localhost:8080/",
          "height": 51
        },
        "outputId": "29ecdcfe-e8f9-43d8-9577-31008e0bd117"
      },
      "source": [
        "#!/usr/bin/python \n",
        "# -*- coding: UTF-8 -*- \n",
        "\n",
        "def sort(number1, number2):\n",
        "    if number1 < number2:\n",
        "        return number1, number2\n",
        "    else:\n",
        "        return number2, number1\n",
        "\n",
        "num1, num2 = sort(31, 25)\n",
        "\n",
        "print(\"num1 is\", num1)\n",
        "print(\"num2 is\", num2)\n",
        "\n"
      ],
      "execution_count": null,
      "outputs": [
        {
          "output_type": "stream",
          "text": [
            "num1 is 25\n",
            "num2 is 31\n"
          ],
          "name": "stdout"
        }
      ]
    },
    {
      "cell_type": "code",
      "metadata": {
        "id": "2eaJUxQh32t_",
        "colab_type": "code",
        "colab": {
          "base_uri": "https://localhost:8080/",
          "height": 102
        },
        "outputId": "140576c4-d5b9-4db2-b994-a2dbe87a8e71"
      },
      "source": [
        "#!/usr/bin/python \n",
        "# -*- coding: UTF-8 -*- \n",
        "\n",
        "def printArea(width = 11, height = 12):\n",
        "    area = width * height\n",
        "    print(\"width:\", width, \"\\theight:\", height, \"\\tarea:\", area)\n",
        "\n",
        "printArea() \n",
        "printArea(4, 2.5) # Positional arguments width = 4 and height = 2.5\n",
        "printArea(height = 5, width = 3) # Keyword arguments width \n",
        "printArea(width = 1.2) # Default height = 2\n",
        "printArea(height = 6.2) # Default widht = 1"
      ],
      "execution_count": null,
      "outputs": [
        {
          "output_type": "stream",
          "text": [
            "width: 11 \theight: 12 \tarea: 132\n",
            "width: 4 \theight: 2.5 \tarea: 10.0\n",
            "width: 3 \theight: 5 \tarea: 15\n",
            "width: 1.2 \theight: 12 \tarea: 14.399999999999999\n",
            "width: 11 \theight: 6.2 \tarea: 68.2\n"
          ],
          "name": "stdout"
        }
      ]
    },
    {
      "cell_type": "code",
      "metadata": {
        "id": "A2BIh47Q373n",
        "colab_type": "code",
        "colab": {
          "base_uri": "https://localhost:8080/",
          "height": 85
        },
        "outputId": "d73d2c88-fb21-46fc-9b4a-dc9bdcb176d6"
      },
      "source": [
        "#!/usr/bin/python \n",
        "# -*- coding: UTF-8 -*- \n",
        "\n",
        "def hello_3(greeting='Hello', name='world'): \n",
        "    print('{}, {}!'.format(greeting, name)) \n",
        "\n",
        "    \n",
        "hello_3() \n",
        "hello_3('Greetings') \n",
        "hello_3('Greetings', 'universe')\n",
        "hello_3(name='GGGGGGoood')"
      ],
      "execution_count": null,
      "outputs": [
        {
          "output_type": "stream",
          "text": [
            "Hello, world!\n",
            "Greetings, world!\n",
            "Greetings, universe!\n",
            "Hello, GGGGGGoood!\n"
          ],
          "name": "stdout"
        }
      ]
    },
    {
      "cell_type": "code",
      "metadata": {
        "id": "B5e2SSXN4Cs2",
        "colab_type": "code",
        "colab": {
          "base_uri": "https://localhost:8080/",
          "height": 34
        },
        "outputId": "399f79b4-fda4-4b6a-c69e-d6dbb78a2458"
      },
      "source": [
        "params = {'name': 'Sir Simon Rattle', 'greeting': 'To my Great Conductor'}\n",
        "hello_3(**params)"
      ],
      "execution_count": null,
      "outputs": [
        {
          "output_type": "stream",
          "text": [
            "To my Great Conductor, Sir Simon Rattle!\n"
          ],
          "name": "stdout"
        }
      ]
    },
    {
      "cell_type": "code",
      "metadata": {
        "id": "s9pTRgHg4HdF",
        "colab_type": "code",
        "colab": {
          "base_uri": "https://localhost:8080/",
          "height": 119
        },
        "outputId": "8691f40d-b4b2-4e00-f870-a8d81c43b54d"
      },
      "source": [
        "def print_params(*params): \n",
        "    print(params) \n",
        "\n",
        "print_params('Testing') \n",
        "\n",
        "print_params(1, 2, 3) \n",
        "\n",
        "# return的是tuple資料型態\n",
        "\n",
        "#可和一般參數齊用\n",
        "\n",
        "def print_params_2(title, *params): \n",
        "    print(title) \n",
        "    print(params)\n",
        "\n",
        "print_params_2('Params:', 1, 2, 3)\n",
        "print_params_2('Nothing:')"
      ],
      "execution_count": null,
      "outputs": [
        {
          "output_type": "stream",
          "text": [
            "('Testing',)\n",
            "(1, 2, 3)\n",
            "Params:\n",
            "(1, 2, 3)\n",
            "Nothing:\n",
            "()\n"
          ],
          "name": "stdout"
        }
      ]
    },
    {
      "cell_type": "code",
      "metadata": {
        "id": "jDMRcstn4MNd",
        "colab_type": "code",
        "colab": {
          "base_uri": "https://localhost:8080/",
          "height": 136
        },
        "outputId": "5798b32e-3692-4c28-8fa6-9fb21142c6c8"
      },
      "source": [
        "def print_params_3(**params): \n",
        "    print(params) \n",
        "\n",
        "print_params_3(x=1, y=2, z=3) \n",
        "\n",
        "# return的是dict(字典資料型態)\n",
        "\n",
        "def print_params_4(x, y, z=3, *pospar, **keypar): \n",
        "    print(x, y, z) \n",
        "    print(pospar) \n",
        "    print(keypar) \n",
        "\n",
        "print_params_4(1, 2, 4, 5, 6, 7, foo=1, bar=2)\n",
        "\n",
        "print_params_4(1, 2)"
      ],
      "execution_count": null,
      "outputs": [
        {
          "output_type": "stream",
          "text": [
            "{'x': 1, 'y': 2, 'z': 3}\n",
            "1 2 4\n",
            "(5, 6, 7)\n",
            "{'foo': 1, 'bar': 2}\n",
            "1 2 3\n",
            "()\n",
            "{}\n"
          ],
          "name": "stdout"
        }
      ]
    },
    {
      "cell_type": "code",
      "metadata": {
        "id": "X-KpK-TT4P7X",
        "colab_type": "code",
        "colab": {
          "base_uri": "https://localhost:8080/",
          "height": 136
        },
        "outputId": "b3430717-0b95-4081-fc43-7d72d72ee8b7"
      },
      "source": [
        "x = 111\n",
        "\n",
        "def f1():\n",
        "    x = 222\n",
        "    print(x) \n",
        "\n",
        "f1()\n",
        "print(x)\n",
        "\n",
        "x = 1\n",
        "\n",
        "def increase():\n",
        "    global x\n",
        "    x =  x + 1\n",
        "    print(x) \n",
        "\n",
        "increase()\n",
        "print(x)\n",
        "increase()\n",
        "increase()\n",
        "print(x)"
      ],
      "execution_count": null,
      "outputs": [
        {
          "output_type": "stream",
          "text": [
            "222\n",
            "111\n",
            "2\n",
            "2\n",
            "3\n",
            "4\n",
            "4\n"
          ],
          "name": "stdout"
        }
      ]
    },
    {
      "cell_type": "code",
      "metadata": {
        "id": "kmuJxwpL4a6G",
        "colab_type": "code",
        "colab": {
          "base_uri": "https://localhost:8080/",
          "height": 34
        },
        "outputId": "0e618b7e-3cb9-4f43-eaf6-407defa2e9e3"
      },
      "source": [
        "f1 = lambda x, y, z: x+2*y+3*z\n",
        "print(f1(2,3,1))"
      ],
      "execution_count": null,
      "outputs": [
        {
          "output_type": "stream",
          "text": [
            "11\n"
          ],
          "name": "stdout"
        }
      ]
    },
    {
      "cell_type": "code",
      "metadata": {
        "id": "xlkdq2mr4eQH",
        "colab_type": "code",
        "colab": {}
      },
      "source": [
        "def myfunc(m):\n",
        "    return m*m\n",
        "\n",
        "my_list = [1, 3, 5, 7, 9]"
      ],
      "execution_count": null,
      "outputs": []
    },
    {
      "cell_type": "code",
      "metadata": {
        "id": "fPeNXkf74ojO",
        "colab_type": "code",
        "colab": {
          "base_uri": "https://localhost:8080/",
          "height": 34
        },
        "outputId": "1030ea62-a574-4bb3-a6cd-f1c336adee10"
      },
      "source": [
        "#!/usr/bin/python\n",
        "# -*- coding: UTF-8 -*-\n",
        "\n",
        "def fib(n):\n",
        "    if n==1 or n==2:\n",
        "        return 1\n",
        "    return fib(n-1)+fib(n-2)\n",
        "\n",
        "print(fib(10))"
      ],
      "execution_count": null,
      "outputs": [
        {
          "output_type": "stream",
          "text": [
            "55\n"
          ],
          "name": "stdout"
        }
      ]
    },
    {
      "cell_type": "code",
      "metadata": {
        "id": "cRQBI23w4o5E",
        "colab_type": "code",
        "colab": {
          "base_uri": "https://localhost:8080/",
          "height": 34
        },
        "outputId": "aa167d02-36c2-4fe6-e49c-107e4b5a73c0"
      },
      "source": [
        "#!/usr/bin/python\n",
        "# -*- coding: UTF-8 -*-\n",
        " \n",
        "def fib(n):\n",
        "    a,b = 1,1\n",
        "    for i in range(n-1):\n",
        "        a,b = b,a+b\n",
        "    return a\n",
        " \n",
        "\n",
        "print(fib(10))"
      ],
      "execution_count": null,
      "outputs": [
        {
          "output_type": "stream",
          "text": [
            "55\n"
          ],
          "name": "stdout"
        }
      ]
    },
    {
      "cell_type": "code",
      "metadata": {
        "id": "RUgj_eAK41lN",
        "colab_type": "code",
        "colab": {
          "base_uri": "https://localhost:8080/",
          "height": 187
        },
        "outputId": "0a2508dd-f539-48ed-f57a-3a8b04926f29"
      },
      "source": [
        "#!/usr/bin/python\n",
        "# -*- coding: UTF-8 -*-\n",
        "\n",
        "def fib(x):\t\n",
        "\tglobal numFibCalls\n",
        "\tnumFibCalls += 1\n",
        "\t\n",
        "\tif x == 0 or x == 1:\n",
        "           return 1\n",
        "\telse:\n",
        "          return fib(x-1) + fib(x-2)\n",
        "\n",
        "def testFib(n):\n",
        "\tfor i in range(n+1):\n",
        "          global numFibCalls\n",
        "          numFibCalls = 0\n",
        "          print('fib of', i, '=', fib(i))\n",
        "          print('fib called', numFibCalls, 'times.')\n",
        "\n",
        "testFib(4)"
      ],
      "execution_count": null,
      "outputs": [
        {
          "output_type": "stream",
          "text": [
            "fib of 0 = 1\n",
            "fib called 1 times.\n",
            "fib of 1 = 1\n",
            "fib called 1 times.\n",
            "fib of 2 = 2\n",
            "fib called 3 times.\n",
            "fib of 3 = 3\n",
            "fib called 5 times.\n",
            "fib of 4 = 5\n",
            "fib called 9 times.\n"
          ],
          "name": "stdout"
        }
      ]
    },
    {
      "cell_type": "code",
      "metadata": {
        "id": "03KQFBeY47Jz",
        "colab_type": "code",
        "colab": {
          "base_uri": "https://localhost:8080/",
          "height": 35
        },
        "outputId": "c503b80d-8375-4f30-ce11-3996609a0bf8"
      },
      "source": [
        "hex(255)\n",
        "\n",
        "hex(-42)\n",
        "\n",
        "\"\"\"### oct(x):Convert an integer number to an octal string prefixed with “0o”\"\"\"\n",
        "\n",
        "oct(8)\n",
        "\n",
        "oct(-56)\n",
        "\n",
        "\"\"\"### bin(x):Convert an integer number to a binary string prefixed with “0b”\"\"\"\n",
        "\n",
        "bin(3)\n",
        "\n",
        "bin(-10)"
      ],
      "execution_count": null,
      "outputs": [
        {
          "output_type": "execute_result",
          "data": {
            "application/vnd.google.colaboratory.intrinsic+json": {
              "type": "string"
            },
            "text/plain": [
              "'-0b1010'"
            ]
          },
          "metadata": {
            "tags": []
          },
          "execution_count": 20
        }
      ]
    },
    {
      "cell_type": "code",
      "metadata": {
        "id": "gUTNrkKc4-A3",
        "colab_type": "code",
        "colab": {
          "base_uri": "https://localhost:8080/",
          "height": 34
        },
        "outputId": "bd2e09d2-0c45-4f53-c019-c90cb307a0a3"
      },
      "source": [
        "chr(97)\n",
        "\n",
        "chr(66)\n",
        "\n",
        "#ord('a')\n",
        "#print(bin(ord('a')))\n",
        "#oct(ord('a'))\n",
        "print(hex(ord('a')))"
      ],
      "execution_count": null,
      "outputs": [
        {
          "output_type": "stream",
          "text": [
            "0x61\n"
          ],
          "name": "stdout"
        }
      ]
    },
    {
      "cell_type": "code",
      "metadata": {
        "id": "IcyRDrbk5MZX",
        "colab_type": "code",
        "colab": {
          "base_uri": "https://localhost:8080/",
          "height": 233
        },
        "outputId": "4e4bfea3-c331-4947-d4ab-372722494e71"
      },
      "source": [
        "a=\"66 114\".split(\"\")\n",
        "a\n",
        "\n",
        "a=\"66 114\".split(\"  \")\n",
        "a\n",
        "\n",
        "a=\"66 114\".split(\" \")\n",
        "a\n",
        "type(a)"
      ],
      "execution_count": null,
      "outputs": [
        {
          "output_type": "error",
          "ename": "ValueError",
          "evalue": "ignored",
          "traceback": [
            "\u001b[0;31m---------------------------------------------------------------------------\u001b[0m",
            "\u001b[0;31mValueError\u001b[0m                                Traceback (most recent call last)",
            "\u001b[0;32m<ipython-input-22-2ae56806b103>\u001b[0m in \u001b[0;36m<module>\u001b[0;34m()\u001b[0m\n\u001b[0;32m----> 1\u001b[0;31m \u001b[0ma\u001b[0m\u001b[0;34m=\u001b[0m\u001b[0;34m\"66 114\"\u001b[0m\u001b[0;34m.\u001b[0m\u001b[0msplit\u001b[0m\u001b[0;34m(\u001b[0m\u001b[0;34m\"\"\u001b[0m\u001b[0;34m)\u001b[0m\u001b[0;34m\u001b[0m\u001b[0;34m\u001b[0m\u001b[0m\n\u001b[0m\u001b[1;32m      2\u001b[0m \u001b[0ma\u001b[0m\u001b[0;34m\u001b[0m\u001b[0;34m\u001b[0m\u001b[0m\n\u001b[1;32m      3\u001b[0m \u001b[0;34m\u001b[0m\u001b[0m\n\u001b[1;32m      4\u001b[0m \u001b[0ma\u001b[0m\u001b[0;34m=\u001b[0m\u001b[0;34m\"66 114\"\u001b[0m\u001b[0;34m.\u001b[0m\u001b[0msplit\u001b[0m\u001b[0;34m(\u001b[0m\u001b[0;34m\"  \"\u001b[0m\u001b[0;34m)\u001b[0m\u001b[0;34m\u001b[0m\u001b[0;34m\u001b[0m\u001b[0m\n\u001b[1;32m      5\u001b[0m \u001b[0ma\u001b[0m\u001b[0;34m\u001b[0m\u001b[0;34m\u001b[0m\u001b[0m\n",
            "\u001b[0;31mValueError\u001b[0m: empty separator"
          ]
        }
      ]
    },
    {
      "cell_type": "code",
      "metadata": {
        "id": "X2MCj2-A5Uax",
        "colab_type": "code",
        "colab": {
          "base_uri": "https://localhost:8080/",
          "height": 35
        },
        "outputId": "47d6b2a2-8eca-4ef4-b92f-c2c71c959632"
      },
      "source": [
        "a=\"66 114\".split(\" \")\n",
        "\n",
        "result=''\n",
        "\n",
        "for x in a:\n",
        "  y=chr(int(x))\n",
        "  result += y\n",
        "# result = result + y \n",
        "\n",
        "result"
      ],
      "execution_count": null,
      "outputs": [
        {
          "output_type": "execute_result",
          "data": {
            "application/vnd.google.colaboratory.intrinsic+json": {
              "type": "string"
            },
            "text/plain": [
              "'Br'"
            ]
          },
          "metadata": {
            "tags": []
          },
          "execution_count": 23
        }
      ]
    },
    {
      "cell_type": "code",
      "metadata": {
        "id": "cWNTul8b5aQ1",
        "colab_type": "code",
        "colab": {}
      },
      "source": [
        "#!/usr/bin/python\n",
        "\n",
        "c = '66 114 101 97 107 65 76 76 67 84 70 123 65 109 118 48 117 68 121 101 114 118 80 116 109 86 114 57 83 83 83 75 125'\n",
        "\n",
        "flag = \"\"\n",
        "\n",
        "for _ in c.split(' '):\n",
        "  flag += chr(int(_))\n",
        "\n",
        "print(flag)"
      ],
      "execution_count": null,
      "outputs": []
    },
    {
      "cell_type": "code",
      "metadata": {
        "id": "TFdk2m8d5a7K",
        "colab_type": "code",
        "colab": {}
      },
      "source": [
        "#!/usr/bin/python\n",
        "\n",
        "c = '66 114 101 97 107 65 76 76 67 84 70 123 65 109 118 48 117 68 121 101 114 118 80 116 109 86 114 57 83 83 83 75 125'\n",
        "\n",
        "flag = \"\"\n",
        "\n",
        "for x in c.split(' '):\n",
        "  flag += chr(int(x))\n",
        "\n",
        "print(flag)"
      ],
      "execution_count": null,
      "outputs": []
    },
    {
      "cell_type": "code",
      "metadata": {
        "id": "LhIJytXf5q_F",
        "colab_type": "code",
        "colab": {
          "base_uri": "https://localhost:8080/",
          "height": 51
        },
        "outputId": "995e694d-a8a9-473c-8f86-5081a465e43d"
      },
      "source": [
        "import base64\n",
        "\n",
        "data =b'BreakAllCTF{HappyPythonDay}'\n",
        "encoded_data = base64.b64encode(data)\n",
        "print('Original Data :', data)\n",
        "print('Encoded :', encoded_data)"
      ],
      "execution_count": null,
      "outputs": [
        {
          "output_type": "stream",
          "text": [
            "Original Data : b'BreakAllCTF{HappyPythonDay}'\n",
            "Encoded : b'QnJlYWtBbGxDVEZ7SGFwcHlQeXRob25EYXl9'\n"
          ],
          "name": "stdout"
        }
      ]
    },
    {
      "cell_type": "code",
      "metadata": {
        "id": "sG1Xy-_u6Ake",
        "colab_type": "code",
        "colab": {
          "base_uri": "https://localhost:8080/",
          "height": 68
        },
        "outputId": "2c95df1e-efc7-47b4-87c3-8ea2328757ca"
      },
      "source": [
        "import base64\n",
        "\n",
        "original_data = b'BreakAllCTF{HappyPythonDay}'\n",
        "print('Original data:', original_data)\n",
        "\n",
        "encoded_data = base64.b32encode(original_data)\n",
        "print('Encoded :', encoded_data)\n",
        "\n",
        "decoded_data = base64.b32decode(encoded_data)\n",
        "print('Decoded :', decoded_data)"
      ],
      "execution_count": null,
      "outputs": [
        {
          "output_type": "stream",
          "text": [
            "Original data: b'BreakAllCTF{HappyPythonDay}'\n",
            "Encoded : b'IJZGKYLLIFWGYQ2UIZ5UQYLQOB4VA6LUNBXW4RDBPF6Q===='\n",
            "Decoded : b'BreakAllCTF{HappyPythonDay}'\n"
          ],
          "name": "stdout"
        }
      ]
    }
  ]
}