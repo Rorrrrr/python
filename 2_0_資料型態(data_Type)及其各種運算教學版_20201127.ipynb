{
  "nbformat": 4,
  "nbformat_minor": 0,
  "metadata": {
    "colab": {
      "name": "2_0_資料型態(data_Type)及其各種運算教學版_20201127.ipynb",
      "provenance": [],
      "collapsed_sections": [],
      "include_colab_link": true
    },
    "kernelspec": {
      "name": "python3",
      "display_name": "Python 3"
    }
  },
  "cells": [
    {
      "cell_type": "markdown",
      "metadata": {
        "id": "view-in-github",
        "colab_type": "text"
      },
      "source": [
        "<a href=\"https://colab.research.google.com/github/Rorrrrr/python/blob/master/2_0_%E8%B3%87%E6%96%99%E5%9E%8B%E6%85%8B(data_Type)%E5%8F%8A%E5%85%B6%E5%90%84%E7%A8%AE%E9%81%8B%E7%AE%97%E6%95%99%E5%AD%B8%E7%89%88_20201127.ipynb\" target=\"_parent\"><img src=\"https://colab.research.google.com/assets/colab-badge.svg\" alt=\"Open In Colab\"/></a>"
      ]
    },
    {
      "cell_type": "markdown",
      "metadata": {
        "id": "bMV4OKWxD5qO"
      },
      "source": [
        "# Python有眾多資料型態(data Type)及其各種運算\n",
        "```\n",
        "    >* 數值(Numeric)資料及其運算\n",
        "    >* 字串(string)及其運算\n",
        "    >* 列表(list)資料及其運算\n",
        "    >* 字典(dict)資料及其運算  \n",
        "    >*[自我練習]tuple資料及其運算  \n",
        "    >*[自我練習]set資料及其運算  \n",
        "```\n",
        "```\n",
        " 本課程規劃讓同學快速掌握python程式的開發技術\n",
        " 還有更多技術及細節 請務必閱讀更多教材深入\n",
        "```\n",
        "\n",
        "# 資料型態(Data Type)學習重點:\n",
        "```\n",
        "各種運算\n",
        "各種內建函數\n",
        "型態轉換\n",
        "運算優先順序\n",
        "```\n",
        "\n",
        "[進階範例]底下程式執行後結果為何?\n",
        "```\n",
        "from queue import Queue\n",
        "q = Queue()\n",
        "q.put(1)\n",
        "q.put(2)\n",
        "q.put(3)\n",
        "q\n",
        "print(q.queue)\n",
        "\n",
        "q.get()\n",
        " ```"
      ]
    },
    {
      "cell_type": "code",
      "metadata": {
        "id": "QP_ySkyOWZ-d",
        "colab": {
          "base_uri": "https://localhost:8080/"
        },
        "outputId": "2a262a52-29d8-4cca-ba01-1fa19bfcf85b"
      },
      "source": [
        "from queue import Queue\n",
        "q = Queue()\n",
        "q.put(1)\n",
        "q.put(2)\n",
        "q.put(3)\n",
        "q\n",
        "print(q.queue)"
      ],
      "execution_count": null,
      "outputs": [
        {
          "output_type": "stream",
          "text": [
            "deque([1, 2, 3])\n"
          ],
          "name": "stdout"
        }
      ]
    },
    {
      "cell_type": "markdown",
      "metadata": {
        "id": "SH2nCJ6iE77w"
      },
      "source": [
        "# 快速入門 \n",
        "\n",
        "# [1]數值(Numeric)資料及其運算\n",
        "```\n",
        "Python 支持三種不同的數值型別(Data Type)：\n",
        "\n",
        "[1]Int 整數，是可以是正或負整數，不帶小數點。\n",
        "   Python3  int是沒有限制大小的，可以當作 Long 類型使用，所以 Python3 沒有 Python2 的 Long 類型。\n",
        "\n",
        "[2]浮點數(float) :由整數部分與小數部分組成，浮點型也可以使用科學計數法表示（2.5e2 = 2.5 x 10 0 = 250）\n",
        "\n",
        "[3]複數( (complex)) - 複數由實數部分和虛數部分構成，可以用a + bj,或者complex(a,b)表示， 複數的實部a和虛部b都是浮點型。\n",
        "\n",
        "https://www.w3schools.com/python/python_exercises.asp\n",
        "```"
      ]
    },
    {
      "cell_type": "markdown",
      "metadata": {
        "id": "KYaeiEBVPr-e"
      },
      "source": [
        "[實作練習]底下程式執行後結果為何?\n",
        "```\n",
        "a = 17 / 3\n",
        "b = 17 // 3\n",
        "c = 17 % 3\n",
        "\n",
        "a,b,c\n",
        "```"
      ]
    },
    {
      "cell_type": "code",
      "metadata": {
        "id": "jzYTvXwKW2BU",
        "colab": {
          "base_uri": "https://localhost:8080/"
        },
        "outputId": "1c28206e-deaa-4a65-b95c-f54bc31b8b13"
      },
      "source": [
        "a = 17 / 3\n",
        "b = 17 // 3\n",
        "c = 17 % 3\n",
        " \n",
        "a,b,c"
      ],
      "execution_count": null,
      "outputs": [
        {
          "output_type": "execute_result",
          "data": {
            "text/plain": [
              "(5.666666666666667, 5, 2)"
            ]
          },
          "metadata": {
            "tags": []
          },
          "execution_count": 2
        }
      ]
    },
    {
      "cell_type": "code",
      "metadata": {
        "id": "pYaoh_JRW--u",
        "colab": {
          "base_uri": "https://localhost:8080/"
        },
        "outputId": "18e99e4f-adaf-4233-a9a5-c6ceab467564"
      },
      "source": [
        "-3 % 2"
      ],
      "execution_count": null,
      "outputs": [
        {
          "output_type": "execute_result",
          "data": {
            "text/plain": [
              "1"
            ]
          },
          "metadata": {
            "tags": []
          },
          "execution_count": 3
        }
      ]
    },
    {
      "cell_type": "code",
      "metadata": {
        "id": "drxtbP2lXlWM",
        "colab": {
          "base_uri": "https://localhost:8080/"
        },
        "outputId": "a2306f60-3be2-4ce6-f84c-894c4a4db4ab"
      },
      "source": [
        "abs(3+4j)"
      ],
      "execution_count": null,
      "outputs": [
        {
          "output_type": "execute_result",
          "data": {
            "text/plain": [
              "5.0"
            ]
          },
          "metadata": {
            "tags": []
          },
          "execution_count": 4
        }
      ]
    },
    {
      "cell_type": "markdown",
      "metadata": {
        "id": "e1VVU1VQFBGz"
      },
      "source": [
        "# [2]字串(string)及其運算\n",
        "\n",
        "```\n",
        "字串(string)\n",
        "變數值以一對雙引號 (「\"」)或單引號 (「'」)\n",
        "存取字串中的值: 使用方括號\n",
        "```\n"
      ]
    },
    {
      "cell_type": "markdown",
      "metadata": {
        "id": "zxRwLkAWP_3o"
      },
      "source": [
        "[實作練習]底下程式執行後結果為何?\n",
        "```\n",
        "var1 = 'Hello Python!'\n",
        " \n",
        "print(\"var1[0]: \", var1[0])\n",
        "print(\"var1[1:8]: \", var1[1:8])\n",
        "```\n"
      ]
    },
    {
      "cell_type": "code",
      "metadata": {
        "id": "pYwWuslYX722",
        "colab": {
          "base_uri": "https://localhost:8080/"
        },
        "outputId": "5c392369-4aa3-40ca-f4f6-f0a77cf31945"
      },
      "source": [
        "var1 = 'Hello Python!'\n",
        " \n",
        "print(\"var1[0]: \", var1[0])\n",
        "print(\"var1[1:8]: \", var1[1:8])"
      ],
      "execution_count": null,
      "outputs": [
        {
          "output_type": "stream",
          "text": [
            "var1[0]:  H\n",
            "var1[1:8]:  ello Py\n"
          ],
          "name": "stdout"
        }
      ]
    },
    {
      "cell_type": "markdown",
      "metadata": {
        "id": "sBrU19ZdQRab"
      },
      "source": [
        "[實作練習] 填入程式使輸出為 Hello World!\n",
        "```\n",
        "var1 = 'Hello Python!'\n",
        "\n",
        "print(var1[:____]+\"World!\"+\"恩師最偉大\")\n",
        "```"
      ]
    },
    {
      "cell_type": "code",
      "metadata": {
        "id": "Pts9xb8nanY5",
        "colab": {
          "base_uri": "https://localhost:8080/"
        },
        "outputId": "cb688e18-0a7e-4127-c64f-8a729d1ea122"
      },
      "source": [
        "var1 = 'Hello Python!'\n",
        "\n",
        "print(var1[:6]+\"World!\"+\"恩師最偉大\")"
      ],
      "execution_count": null,
      "outputs": [
        {
          "output_type": "stream",
          "text": [
            "Hello World!恩師最偉大\n"
          ],
          "name": "stdout"
        }
      ]
    },
    {
      "cell_type": "markdown",
      "metadata": {
        "id": "F2m02SCgFEv1"
      },
      "source": [
        "# [3]列表(list)資料及其運算\n",
        "```\n",
        "LIST是 Python 中最基本的資料結構。\n",
        "LIST使用一個方括號內的逗號分隔值出現。\n",
        "\n",
        "LIST的每個值都有對應的位置，稱之為索引( index)，\n",
        "第一個索引是 0，第二個索引是 1，依此類推。\n",
        "\n",
        "LIST都可以進行的操作包括索引，切片，加，乘，檢查成員。\n",
        "\n",
        "Python 內建許多函數: \n",
        "1.len(list):元素個數\n",
        "2.max(list)返回元素最大值\n",
        "3.min(list):返回元素最小值\n",
        "```"
      ]
    },
    {
      "cell_type": "markdown",
      "metadata": {
        "id": "OxKYbWhCSOf3"
      },
      "source": [
        "\n",
        "\n",
        "底下程式執行後結果為何?\n",
        "```\n",
        "list1 = [21, 33, 14, 12, 32, 98]\n",
        "\n",
        "list1[1]\n",
        "```"
      ]
    },
    {
      "cell_type": "code",
      "metadata": {
        "id": "h7V49ibgYL8d",
        "colab": {
          "base_uri": "https://localhost:8080/"
        },
        "outputId": "c47675aa-b6df-4b19-dd3c-d81bed1f5722"
      },
      "source": [
        "list1 = [21, 33, 14, 12, 32, 98]\n",
        " \n",
        "list1[1]"
      ],
      "execution_count": null,
      "outputs": [
        {
          "output_type": "execute_result",
          "data": {
            "text/plain": [
              "33"
            ]
          },
          "metadata": {
            "tags": []
          },
          "execution_count": 7
        }
      ]
    },
    {
      "cell_type": "markdown",
      "metadata": {
        "id": "bCb5CGP5SdK4"
      },
      "source": [
        "底下程式執行後結果為何?\n",
        "```\n",
        "list1 = [21, 33, 14, 12, 32, 98]\n",
        "\n",
        "list1[-2]\n",
        "```"
      ]
    },
    {
      "cell_type": "code",
      "metadata": {
        "id": "7y5mn1U8YQp0",
        "colab": {
          "base_uri": "https://localhost:8080/"
        },
        "outputId": "e8e5cf77-ac21-43b0-a60b-3ee3abfd211c"
      },
      "source": [
        "list1 = [21, 33, 14, 12, 32, 98]\n",
        " \n",
        "list1[-2]"
      ],
      "execution_count": null,
      "outputs": [
        {
          "output_type": "execute_result",
          "data": {
            "text/plain": [
              "32"
            ]
          },
          "metadata": {
            "tags": []
          },
          "execution_count": 8
        }
      ]
    },
    {
      "cell_type": "markdown",
      "metadata": {
        "id": "tdFebTXVF3ag"
      },
      "source": [
        "底下程式執行後結果為何?\n",
        "```\n",
        "len(list1)\n",
        "```"
      ]
    },
    {
      "cell_type": "code",
      "metadata": {
        "id": "rRmM1HwGYTZf",
        "colab": {
          "base_uri": "https://localhost:8080/"
        },
        "outputId": "2e9a3c24-a7d7-45be-9b39-499db4039003"
      },
      "source": [
        "len(list1)"
      ],
      "execution_count": null,
      "outputs": [
        {
          "output_type": "execute_result",
          "data": {
            "text/plain": [
              "6"
            ]
          },
          "metadata": {
            "tags": []
          },
          "execution_count": 9
        }
      ]
    },
    {
      "cell_type": "markdown",
      "metadata": {
        "id": "8yu5XNgqF5Nm"
      },
      "source": [
        "底下程式執行後結果為何?\n",
        "```\n",
        "max(list1)\n",
        "```"
      ]
    },
    {
      "cell_type": "code",
      "metadata": {
        "id": "c-KbdJShYYMz",
        "colab": {
          "base_uri": "https://localhost:8080/"
        },
        "outputId": "0b37f317-29fc-4fa1-d9e2-128c0312bfa7"
      },
      "source": [
        "max(list1)"
      ],
      "execution_count": null,
      "outputs": [
        {
          "output_type": "execute_result",
          "data": {
            "text/plain": [
              "98"
            ]
          },
          "metadata": {
            "tags": []
          },
          "execution_count": 10
        }
      ]
    },
    {
      "cell_type": "markdown",
      "metadata": {
        "id": "QyWB_6d4GE8u"
      },
      "source": [
        "底下程式執行後結果為何?\n",
        "```\n",
        "min(list1)\n",
        "```"
      ]
    },
    {
      "cell_type": "code",
      "metadata": {
        "id": "mhNg5KDhxVzq",
        "colab": {
          "base_uri": "https://localhost:8080/"
        },
        "outputId": "2fcb6e15-c65b-4ff1-c285-6354e8fee3ec"
      },
      "source": [
        "min(list1)"
      ],
      "execution_count": null,
      "outputs": [
        {
          "output_type": "execute_result",
          "data": {
            "text/plain": [
              "12"
            ]
          },
          "metadata": {
            "tags": []
          },
          "execution_count": 12
        }
      ]
    },
    {
      "cell_type": "markdown",
      "metadata": {
        "id": "8rNiPGNwGHjg"
      },
      "source": [
        "底下程式執行後結果為何?\n",
        "```\n",
        "sum(list1)\n",
        "```"
      ]
    },
    {
      "cell_type": "code",
      "metadata": {
        "id": "LrQx1GqoxYT8",
        "colab": {
          "base_uri": "https://localhost:8080/"
        },
        "outputId": "8d6ebab6-9fbf-423f-b519-408303a48bbc"
      },
      "source": [
        "sum(list1)"
      ],
      "execution_count": null,
      "outputs": [
        {
          "output_type": "execute_result",
          "data": {
            "text/plain": [
              "210"
            ]
          },
          "metadata": {
            "tags": []
          },
          "execution_count": 13
        }
      ]
    },
    {
      "cell_type": "markdown",
      "metadata": {
        "id": "qFy2Obj5FIwL"
      },
      "source": [
        "# [4]字典(dict)資料及其運算 \n",
        "```\n",
        "字典的每筆資料都使用key(鍵)=>value(值) pair(對)\n",
        "每筆資料都使用冒號 : 分割\n",
        "每對之間用逗號(,)分割，\n",
        "整個字典包括在花括弧 {} \n",
        "\n",
        "key(鍵)必須是唯一的，但value(值)則不必。\n",
        "\n",
        "Python 內建許多函數: \n",
        "\tlen(dict):計算字典元素個數，即鍵的總數。\n",
        "\n",
        "\n",
        "Python 內建許多方法(Method):\n",
        "字典.items():以列表返回LIST陣列\n",
        "字典.keys():返回所有keys\n",
        "字典.values():返回所有values\n",
        "```"
      ]
    },
    {
      "cell_type": "markdown",
      "metadata": {
        "id": "gSGyRBWTUDmC"
      },
      "source": [
        "底下程式執行後結果為何?\n",
        "``` \n",
        "dict = {'Name': 'DaDaLong', 'Age': 17, 'Class': 'First'}\n",
        " \n",
        "print(\"dict['Name']: \", dict['Name'])\n",
        "print(\"dict['Age']: \", dict['Age'])\n",
        "```"
      ]
    },
    {
      "cell_type": "code",
      "metadata": {
        "id": "CGxaBCYTxbv_",
        "colab": {
          "base_uri": "https://localhost:8080/"
        },
        "outputId": "0ed04730-5769-40fa-cfc9-16c0a184ad3e"
      },
      "source": [
        "dict = {'Name': 'DaDaLong', 'Age': 17, 'Class': 'First'}\n",
        " \n",
        "print(\"dict['Name']: \", dict['Name'])\n",
        "print(\"dict['Age']: \", dict['Age'])"
      ],
      "execution_count": null,
      "outputs": [
        {
          "output_type": "stream",
          "text": [
            "dict['Name']:  DaDaLong\n",
            "dict['Age']:  17\n"
          ],
          "name": "stdout"
        }
      ]
    },
    {
      "cell_type": "markdown",
      "metadata": {
        "id": "J6l_D0CeVf10"
      },
      "source": [
        "底下程式執行後結果為何?\n",
        "```\n",
        "dict = {'Name': 'DaDaLong', 'Age': 17, 'Class': 'First'}\n",
        "dict.items()\n",
        "```"
      ]
    },
    {
      "cell_type": "code",
      "metadata": {
        "id": "XfBKQ0z-xdHi",
        "colab": {
          "base_uri": "https://localhost:8080/"
        },
        "outputId": "edb104b8-c69c-4fc2-da26-555f17899d0f"
      },
      "source": [
        "dict = {'Name': 'DaDaLong', 'Age': 17, 'Class': 'First'}\n",
        "dict.items()"
      ],
      "execution_count": null,
      "outputs": [
        {
          "output_type": "execute_result",
          "data": {
            "text/plain": [
              "dict_items([('Name', 'DaDaLong'), ('Age', 17), ('Class', 'First')])"
            ]
          },
          "metadata": {
            "tags": []
          },
          "execution_count": 14
        }
      ]
    },
    {
      "cell_type": "markdown",
      "metadata": {
        "id": "8pqofW6sVMmb"
      },
      "source": [
        "[程式比較]和上述程式輸出有何不同?\n",
        "```\n",
        "dict = {'Name': 'DaDaLong', 'Age': 17, 'Class': 'First'}\n",
        "list(dict.items())\n",
        "```"
      ]
    },
    {
      "cell_type": "code",
      "metadata": {
        "id": "qyjH26U6xg2O",
        "colab": {
          "base_uri": "https://localhost:8080/"
        },
        "outputId": "bfac8a89-64a9-46cd-f0f2-38ff530d07a3"
      },
      "source": [
        "dict = {'Name': 'DaDaLong', 'Age': 17, 'Class': 'First'}\n",
        "list(dict.items())"
      ],
      "execution_count": null,
      "outputs": [
        {
          "output_type": "execute_result",
          "data": {
            "text/plain": [
              "[('Name', 'DaDaLong'), ('Age', 17), ('Class', 'First')]"
            ]
          },
          "metadata": {
            "tags": []
          },
          "execution_count": 16
        }
      ]
    },
    {
      "cell_type": "markdown",
      "metadata": {
        "id": "RoQqsuycVZY5"
      },
      "source": [
        "\n",
        "```\n",
        "dict = {'Name': 'DaDaLong', 'Age': 17, 'Class': 'First'}\n",
        "list(dict.keys())\n",
        "```"
      ]
    },
    {
      "cell_type": "code",
      "metadata": {
        "id": "MgZN_yKOximL",
        "colab": {
          "base_uri": "https://localhost:8080/"
        },
        "outputId": "ab1cf0ec-0b7b-413f-e519-926fd6685be5"
      },
      "source": [
        "dict = {'Name': 'DaDaLong', 'Age': 17, 'Class': 'First'}\n",
        "list(dict.keys())"
      ],
      "execution_count": null,
      "outputs": [
        {
          "output_type": "execute_result",
          "data": {
            "text/plain": [
              "['Name', 'Age', 'Class']"
            ]
          },
          "metadata": {
            "tags": []
          },
          "execution_count": 17
        }
      ]
    }
  ]
}